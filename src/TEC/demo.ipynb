{
 "cells": [
  {
   "cell_type": "code",
   "execution_count": 17,
   "metadata": {
    "pycharm": {
     "is_executing": true
    }
   },
   "outputs": [
    {
     "name": "stderr",
     "output_type": "stream",
     "text": [
      "D:\\ProgramData\\Anaconda3\\lib\\site-packages\\distributed\\node.py:160: UserWarning:\n",
      "\n",
      "Port 8787 is already in use.\n",
      "Perhaps you already have a cluster running?\n",
      "Hosting the HTTP server on port 3036 instead\n",
      "\n",
      "D:\\ProgramData\\Anaconda3\\lib\\site-packages\\distributed\\client.py:1105: VersionMismatchWarning:\n",
      "\n",
      "Mismatched versions found\n",
      "\n",
      "+-------------+-----------+-----------+-----------+\n",
      "| Package     | client    | scheduler | workers   |\n",
      "+-------------+-----------+-----------+-----------+\n",
      "| dask        | 2021.08.1 | 2021.08.1 | 2021.09.1 |\n",
      "| distributed | 2021.08.1 | 2021.08.1 | 2021.09.1 |\n",
      "+-------------+-----------+-----------+-----------+\n",
      "\n"
     ]
    }
   ],
   "source": [
    "import numpy as np\n",
    "import modin.pandas as pd\n",
    "import plotly.graph_objects as go\n",
    "import time\n",
    "import matplotlib.pyplot as plt\n",
    "from distributed import Client\n",
    "from datetime import datetime, timedelta\n",
    "from glob import glob\n",
    "from os import path\n",
    "from astropy import coordinates as coord\n",
    "from astropy import units as u\n",
    "from astropy.time import Time\n",
    "from astropy.coordinates import Angle\n",
    "import cartopy.crs as ccrs\n",
    "client = Client()"
   ]
  },
  {
   "cell_type": "code",
   "execution_count": 6,
   "metadata": {
    "pycharm": {
     "is_executing": true
    }
   },
   "outputs": [],
   "source": [
    "def file_product4specific_days(start_date, end_date, product_flags, path_dir, subfolder_path_format):\n",
    "    \"\"\" This is a function to find all files with certain product_flag from the start_date to end_date from path_dir\n",
    "        Input Args:\n",
    "            start_date: date from\n",
    "            end_date: date to\n",
    "            product_flags: certain files\n",
    "            path_dir: files should be found in the path_dir\n",
    "            subfolder_path_format: the sub-folder format\n",
    "        Output Args:\n",
    "            output_paths: filenames from start_date to end_date including product_flag\n",
    "    \"\"\"\n",
    "    DateFormat = \"%Y-%m-%d\"\n",
    "    start_date = datetime.strptime(start_date, DateFormat).date()\n",
    "    end_date = datetime.strptime(end_date, DateFormat).date()\n",
    "\n",
    "    delta_one_day = timedelta(days=1)\n",
    "    date = start_date\n",
    "    output_paths = {}\n",
    "    for _, product_flag in enumerate(product_flags):\n",
    "        file_paths = []\n",
    "        while date <= end_date:\n",
    "            subfolder_path = date.strftime(subfolder_path_format)\n",
    "            data_folder = path.join(path_dir, subfolder_path)\n",
    "            if path.isdir(data_folder):\n",
    "                for filename in glob(path.join(data_folder, '*.txt')):\n",
    "                    if product_flag in filename:\n",
    "                        file_paths.append(filename)\n",
    "            date += delta_one_day\n",
    "        date = start_date\n",
    "        output_paths[product_flag] = file_paths\n",
    "\n",
    "    return output_paths"
   ]
  },
  {
   "cell_type": "code",
   "execution_count": 12,
   "metadata": {
    "pycharm": {
     "is_executing": true
    }
   },
   "outputs": [],
   "source": [
    "def xyz2latlon(date, secofday, xyz):\n",
    "    \"\"\" This is a function to transfer a set of coordinates in cartesian coordinate of ITRS to those\n",
    "        corresponding latitude and longitude.\n",
    "\n",
    "    Args:\n",
    "        date (str): specifically the starting date of this formulism\n",
    "        secofday (int): second of the day which is exactly the [date]. Note that [secofday] can be \n",
    "                        more than 86400\n",
    "        xyz (np.float): cartesian coordinates for each epoch\n",
    "    \"\"\"\n",
    "    # if (secofday.__len__() != xyz.__len__()):\n",
    "    #     raise ValueError(\"The dimensions of secofday and xyz are not compatible\")\n",
    "    \n",
    "    time_stamps = np.asarray([], dtype=str)\n",
    "    for _, sec in enumerate(secofday):\n",
    "        sec = np.float64(sec)\n",
    "        if sec > 86400.:\n",
    "            date_1 = datetime.strptime(date, \"%Y-%m-%d\")\n",
    "            date = date_1 + timedelta(days=1)\n",
    "        time_stamps = np.append(\n",
    "            time_stamps, date + ' ' + str(timedelta(seconds=sec)))\n",
    "    xs = xyz[:, 0]\n",
    "    ys = xyz[:, 1]\n",
    "    zs = xyz[:, 2]\n",
    "    ground_lat = np.asarray([])\n",
    "    ground_lon = np.asarray([])\n",
    "    for index, sec in enumerate(secofday):\n",
    "        now = Time(time_stamps[index])\n",
    "        cartrep = coord.CartesianRepresentation(\n",
    "            x=xs[sec],\n",
    "            y=ys[sec],\n",
    "            z=zs[sec],\n",
    "            unit=u.m\n",
    "        )\n",
    "        itrs = coord.ITRS(cartrep, obstime=now)\n",
    "        loc = coord.EarthLocation(*itrs.cartesian.xyz)\n",
    "        ground_lat = np.append(ground_lat, Angle(loc.lat).degree)\n",
    "        ground_lon = np.append(ground_lon, Angle(loc.lon).degree)\n",
    "    \n",
    "    return ground_lat, ground_lon\n"
   ]
  },
  {
   "cell_type": "code",
   "execution_count": 18,
   "metadata": {},
   "outputs": [],
   "source": [
    "start_date = '2018-12-01'\n",
    "end_date = '2018-12-01'\n",
    "files_20181201220181204 = file_product4specific_days(\n",
    "    start_date, end_date, ['KBR1B', 'GNV1B'], r'..//..//..//..//gracefo_dataset', r\"gracefo_1B_%Y-%m-%d_RL04.ascii.noLRI\")\n",
    "\n",
    "# read in files\n",
    "kbr1b_x = pd.concat(map(lambda file: pd.read_csv(file,\n",
    "                                                 skiprows=162,\n",
    "                                                 names=['gps_time', 'biased_range', 'range_rate', 'range_accl', 'iono_corr', 'lighttime_err', 'lighttime_rate',\n",
    "                                                        'lighttime_accl', 'ant_centr_corr', 'ant_centr_rate', 'ant_centr_accl', 'k_a_snr', 'ka_a_snr', 'k_b_snr',\n",
    "                                                        'ka_b_snr', 'qualflg'],\n",
    "                                                 dtype=np.float64,\n",
    "                                                 sep='\\s+'),\n",
    "                        files_20181201220181204['KBR1B']),\n",
    "                    ignore_index=True)\n",
    "gnv1b_c = pd.concat(map(lambda file: pd.read_csv(file,\n",
    "                                                 skiprows=148,\n",
    "                                                 names=['gps_time', 'id', 'coord_ref',\n",
    "                                                        'xpos', 'ypos', 'zpos', 'xpos_err', 'ypos_err', 'zpos_err',\n",
    "                                                        'xvel', 'yvel', 'zvel', 'xvel_err', 'yvel_err', 'zvel_err',\n",
    "                                                        'qualflg'],\n",
    "                                                 sep='\\s+'),\n",
    "                        [ctemp for ctemp in files_20181201220181204['GNV1B'] if '_C_' in ctemp]),\n",
    "                    ignore_index=True)\n",
    "gnv1b_d = pd.concat(map(lambda file: pd.read_csv(file,\n",
    "                                                 skiprows=148,\n",
    "                                                 names=['gps_time', 'id', 'coord_ref',\n",
    "                                                        'xpos', 'ypos', 'zpos', 'xpos_err', 'ypos_err', 'zpos_err',\n",
    "                                                        'xvel', 'yvel', 'zvel', 'xvel_err', 'yvel_err', 'zvel_err',\n",
    "                                                        'qualflg'],\n",
    "                                                 sep='\\s+'),\n",
    "                        [ctemp for ctemp in files_20181201220181204['GNV1B'] if '_D_' in ctemp]),\n",
    "                    ignore_index=True)\n",
    "\n",
    "# convert xyz to lat lon\n",
    "kbr1b_x['lat'], kbr1b_x['lon'] = xyz2latlon(start_date,\n",
    "                                            np.floor(gnv1b_c.gps_time.to_numpy() - gnv1b_c.gps_time.to_numpy()[0]).astype(np.int64)[::5],\n",
    "                                            np.c_[gnv1b_c.xpos.to_numpy(),\n",
    "                                                  gnv1b_c.ypos.to_numpy(),\n",
    "                                                  gnv1b_c.zpos.to_numpy()])\n",
    "\n",
    "# ionosphere correction to TEC\n",
    "f_ka = 32e9 #  unit in Hz\n",
    "kbr1b_x['TEC'] = -kbr1b_x['iono_corr'] / 40.3 * f_ka**2\n",
    "\n",
    "ax = plt.axes(projection=ccrs.Robinson())\n",
    "\n",
    "ax.set_global()\n",
    "lon2d, lat2d = np.meshgrid(kbr1b_x.lon.compute(), kbr1b_x.lat.compute())\n",
    "\n",
    "plt.contourf(lon2d, lat2d, kbr1b_x.TEC.compute(), transform=ccrs.PlateCarree())\n",
    "\n",
    "ax.coastlines()\n",
    "ax.gridlines()\n",
    "\n",
    "plt.show()\n",
    "\n",
    "# fig = go.Figure(data=go.Scatter(\n",
    "#         x=kbr1b_x.gps_time,\n",
    "#         y=kbr1b_x.TEC,\n",
    "#         mode='lines',\n",
    "#     ))\n",
    "# fig.update_layout()\n",
    "# fig.show()\n"
   ]
  }
 ],
 "metadata": {
  "interpreter": {
   "hash": "73e03da126b73bfff3642ec5261d56fa25c444ea595de51041687efaa60dda41"
  },
  "kernelspec": {
   "display_name": "PyCharm (Projects_2020)",
   "language": "python",
   "name": "pycharm-be8337a0"
  },
  "language_info": {
   "codemirror_mode": {
    "name": "ipython",
    "version": 3
   },
   "file_extension": ".py",
   "mimetype": "text/x-python",
   "name": "python",
   "nbconvert_exporter": "python",
   "pygments_lexer": "ipython3",
   "version": "3.8.12"
  },
  "orig_nbformat": 4
 },
 "nbformat": 4,
 "nbformat_minor": 2
}